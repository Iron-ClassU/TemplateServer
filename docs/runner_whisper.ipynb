{
 "cells": [
  {
   "cell_type": "code",
   "execution_count": 2,
   "id": "e729ea15-1b49-4de2-8dee-99b615e3b913",
   "metadata": {},
   "outputs": [
    {
     "name": "stdout",
     "output_type": "stream",
     "text": [
      "\u001b[33mWARNING: Skipping torch as it is not installed.\u001b[0m\u001b[33m\n",
      "\u001b[0m\u001b[33mWARNING: Skipping torchvision as it is not installed.\u001b[0m\u001b[33m\n",
      "\u001b[0m\u001b[33mWARNING: Skipping torchaudio as it is not installed.\u001b[0m\u001b[33m\n",
      "\u001b[0mNote: you may need to restart the kernel to use updated packages.\n"
     ]
    }
   ],
   "source": [
    "pip uninstall -y torch torchvision torchaudio"
   ]
  },
  {
   "cell_type": "code",
   "execution_count": null,
   "id": "141224a7-b612-4b90-8414-6a37ed23a9f5",
   "metadata": {},
   "outputs": [
    {
     "name": "stdout",
     "output_type": "stream",
     "text": [
      "Looking in indexes: https://download.pytorch.org/whl/cu118\n",
      "Collecting torch==2.0.1\n",
      "  Downloading https://download.pytorch.org/whl/cu118/torch-2.0.1%2Bcu118-cp310-cp310-linux_x86_64.whl (2267.3 MB)\n",
      "\u001b[2K     \u001b[91m━━━━━━━━━━━━━━━━━\u001b[0m\u001b[91m╸\u001b[0m\u001b[90m━━━━━━━━━━━━━━━━━━━━━━\u001b[0m \u001b[32m1.0/2.3 GB\u001b[0m \u001b[31m23.0 MB/s\u001b[0m eta \u001b[36m0:00:56\u001b[0mm"
     ]
    }
   ],
   "source": [
    "pip install torch==2.0.1 torchvision==0.15.2 torchaudio==2.0.2 --index-url https://download.pytorch.org/whl/cu118"
   ]
  },
  {
   "cell_type": "code",
   "execution_count": null,
   "id": "fe104c73-d516-4ada-88d8-768e3230ff11",
   "metadata": {},
   "outputs": [],
   "source": [
    "pip install -q ffmpeg-python"
   ]
  },
  {
   "cell_type": "code",
   "execution_count": null,
   "id": "0902230c-42bd-400d-8334-c64351e57c99",
   "metadata": {},
   "outputs": [],
   "source": [
    "pip install git+https://github.com/openai/whisper.git"
   ]
  },
  {
   "cell_type": "code",
   "execution_count": null,
   "id": "82a3a3f3-09cb-43c5-acb2-ecfcb7e095f2",
   "metadata": {},
   "outputs": [],
   "source": [
    "pip install jiwer"
   ]
  },
  {
   "cell_type": "code",
   "execution_count": null,
   "id": "9c331f15-6fac-4d8b-aa35-0871c7704fb9",
   "metadata": {},
   "outputs": [],
   "source": [
    "pip install -q tqdm"
   ]
  },
  {
   "cell_type": "markdown",
   "id": "e12fe63e",
   "metadata": {},
   "source": [
    "# 필요한 시스템 패키지 설치 (Google Colab 환경인 경우)\n",
    "\n",
    "import whisper\n",
    "import ssl\n",
    "import time\n",
    "from datetime import timedelta"
   ]
  },
  {
   "cell_type": "markdown",
   "id": "48ca011a",
   "metadata": {},
   "source": [
    "# SSL 인증서 검증 비활성화\n",
    "ssl._create_default_https_context = ssl._create_unverified_context"
   ]
  },
  {
   "cell_type": "markdown",
   "id": "93d728ee",
   "metadata": {},
   "source": [
    "# 시작 시간 기록\n",
    "start_time = time.time()"
   ]
  },
  {
   "cell_type": "markdown",
   "id": "0b5e7451",
   "metadata": {},
   "source": [
    "# 모델 로드\n",
    "print(\"모델을 로드하는 중...\")\n",
    "model = whisper.load_model(\"base\")"
   ]
  },
  {
   "cell_type": "markdown",
   "id": "e536f43f",
   "metadata": {},
   "source": [
    "print(\"start______________________\")\n",
    "# 오디오 파일 로드\n",
    "print(\"오디오 파일을 로드하는 중...\")\n",
    "audio = whisper.load_audio(\"https://midibus.kinxzone.com/name/ch_16ad3a60/190e3377c90362c9_720P\")"
   ]
  },
  {
   "cell_type": "markdown",
   "id": "0213457a",
   "metadata": {},
   "source": [
    "# 전체 오디오 파일 변환\n",
    "print(\"오디오를 텍스트로 변환하는 중...\")\n",
    "result = model.transcribe(audio)"
   ]
  },
  {
   "cell_type": "markdown",
   "id": "61a595ee",
   "metadata": {},
   "source": [
    "# 변환 결과 출력\n",
    "print(\"\\n=== 변환된 자막 ===\\n\")\n",
    "\n",
    "\n",
    "for i, segment in enumerate(result[\"segments\"], start=1):\n",
    "    # 시작 시간과 종료 시간 계산\n",
    "    start_time_delta = timedelta(seconds=segment[\"start\"])\n",
    "    end_time_delta = timedelta(seconds=segment[\"end\"])\n",
    "    \n",
    "    # 시간 형식 변환\n",
    "    hours_start, rem = divmod(start_time_delta.seconds, 3600)\n",
    "    minutes_start, seconds_start = divmod(rem, 60)\n",
    "    milliseconds_start = start_time_delta.microseconds // 1000\n",
    "    \n",
    "    hours_end, rem = divmod(end_time_delta.seconds, 3600)\n",
    "    minutes_end, seconds_end = divmod(rem, 60)\n",
    "    milliseconds_end = end_time_delta.microseconds // 1000\n",
    "    \n",
    "    # 시간 문자열 생성\n",
    "    start_time_str = f\"{hours_start:02d}:{minutes_start:02d}:{seconds_start:02d},{milliseconds_start:03d}\"\n",
    "    end_time_str = f\"{hours_end:02d}:{minutes_end:02d}:{seconds_end:02d},{milliseconds_end:03d}\"\n",
    "    \n",
    "    # 자막 텍스트\n",
    "    text = segment[\"text\"].strip()\n",
    "    \n",
    "    # 자막 출력\n",
    "    print(f\"{i}\")\n",
    "    print(f\"{start_time_str} --> {end_time_str}\")\n",
    "    print(f\"{text}\\n\")\n"
   ]
  },
  {
   "cell_type": "code",
   "execution_count": null,
   "id": "7c2f58b1-33e7-4318-b5e3-3b5a16538f22",
   "metadata": {
    "jupyter": {
     "source_hidden": true
    }
   },
   "outputs": [],
   "source": [
    "# 총 실행 시간 계산 및 출력\n",
    "total_time = time.time() - start_time\n",
    "print(f\"총 실행 시간: {total_time:.2f}초\")"
   ]
  }
 ],
 "metadata": {
  "kernelspec": {
   "display_name": "Python 3 (ipykernel)",
   "language": "python",
   "name": "python3"
  },
  "language_info": {
   "codemirror_mode": {
    "name": "ipython",
    "version": 3
   },
   "file_extension": ".py",
   "mimetype": "text/x-python",
   "name": "python",
   "nbconvert_exporter": "python",
   "pygments_lexer": "ipython3",
   "version": "3.10.12"
  }
 },
 "nbformat": 4,
 "nbformat_minor": 5
}
